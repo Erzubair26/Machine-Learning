{
 "cells": [
  {
   "cell_type": "code",
   "execution_count": 2,
   "id": "25965fe4",
   "metadata": {},
   "outputs": [],
   "source": [
    "import numpy as np\n",
    "from sklearn import linear_model\n"
   ]
  },
  {
   "cell_type": "code",
   "execution_count": 3,
   "id": "467f34f5",
   "metadata": {},
   "outputs": [],
   "source": [
    "import numpy as np"
   ]
  },
  {
   "cell_type": "code",
   "execution_count": 6,
   "id": "8aa44cad",
   "metadata": {},
   "outputs": [
    {
     "data": {
      "text/plain": [
       "array([[3.21],\n",
       "       [3.54],\n",
       "       [4.78],\n",
       "       [0.45],\n",
       "       [1.58],\n",
       "       [5.89],\n",
       "       [6.45],\n",
       "       [0.25]])"
      ]
     },
     "execution_count": 6,
     "metadata": {},
     "output_type": "execute_result"
    }
   ],
   "source": [
    "x"
   ]
  },
  {
   "cell_type": "code",
   "execution_count": 4,
   "id": "6b4c8bd2",
   "metadata": {},
   "outputs": [],
   "source": [
    "y=np.array([0,0,0,0,1,1,1,1])"
   ]
  },
  {
   "cell_type": "code",
   "execution_count": 9,
   "id": "98d15393",
   "metadata": {},
   "outputs": [
    {
     "name": "stdout",
     "output_type": "stream",
     "text": [
      "[0]\n"
     ]
    }
   ],
   "source": [
    "import numpy as np\n",
    "from sklearn import linear_model\n",
    "\n",
    "#Reshaped for Logistic function.\n",
    "X = np.array([3.78, 2.44, 2.09, 0.14, 1.72, 1.65, 4.92, 4.37, 4.96, 4.52, 3.69, 5.88]).reshape(-1,1)\n",
    "y = np.array([0, 0, 0, 0, 0, 0, 1, 1, 1, 1, 1, 1])\n",
    "\n",
    "logr = linear_model.LogisticRegression()\n",
    "logr.fit(X,y)\n",
    "\n",
    "#predict if tumor is cancerous where the size is 3.46mm:\n",
    "predicted = logr.predict(np.array([3.46]).reshape(-1,1))\n",
    "print(predicted)"
   ]
  },
  {
   "cell_type": "code",
   "execution_count": 10,
   "id": "4b48d674",
   "metadata": {},
   "outputs": [],
   "source": [
    "#We have predicted that a tumor with a size of 3.46mm will not be cancerous.\n"
   ]
  },
  {
   "cell_type": "markdown",
   "id": "dcdbc730",
   "metadata": {},
   "source": [
    "This code performs logistic regression using the scikit-learn library in Python. Here's what each part of the code does:\n",
    "\n",
    "import numpy: Imports the numpy library, which is used for numerical computations in Python.\n",
    "from sklearn import linear_model: Imports the linear_model module from the scikit-learn library, which contains functions for linear models including logistic regression.\n",
    "X = numpy.array([3.78, 2.44, 2.09, 0.14, 1.72, 1.65, 4.92, 4.37, 4.96, 4.52, 3.69, 5.88]).reshape(-1,1): Creates a numpy array X containing the predictor variable (independent variable). The .reshape(-1,1) part reshapes the array to have one column and as many rows as needed based on the input data. This is required because scikit-learn expects input data to be in this format.\n",
    "y = numpy.array([0, 0, 0, 0, 0, 0, 1, 1, 1, 1, 1, 1]): Creates a numpy array y containing the target variable (dependent variable).\n",
    "logr = linear_model.LogisticRegression(): Creates a logistic regression model object called logr using the LogisticRegression class from scikit-learn.\n",
    "logr.fit(X,y): Fits the logistic regression model to the data X and y. This trains the model to learn the relationship between the predictor variable X and the target variable y.\n",
    "log_odds = logr.coef_: Retrieves the coefficients (weights) of the logistic regression model. In logistic regression, these coefficients represent the relationship between the predictor variables and the log-odds of the target variable.\n",
    "odds = numpy.exp(log_odds): Calculates the odds ratios from the log-odds. The numpy.exp() function is used to exponentiate each element of log_odds, which converts them back to odds ratios.\n",
    "print(odds): Prints out the odds ratios calculated from the logistic regression model.\n",
    "The output will be the odds ratios for each predictor variable, which represent the change in odds of the target variable for a one-unit change in the corresponding predictor variable."
   ]
  },
  {
   "cell_type": "code",
   "execution_count": null,
   "id": "dc996597",
   "metadata": {},
   "outputs": [],
   "source": []
  }
 ],
 "metadata": {
  "kernelspec": {
   "display_name": "Python 3 (ipykernel)",
   "language": "python",
   "name": "python3"
  },
  "language_info": {
   "codemirror_mode": {
    "name": "ipython",
    "version": 3
   },
   "file_extension": ".py",
   "mimetype": "text/x-python",
   "name": "python",
   "nbconvert_exporter": "python",
   "pygments_lexer": "ipython3",
   "version": "3.9.12"
  }
 },
 "nbformat": 4,
 "nbformat_minor": 5
}
